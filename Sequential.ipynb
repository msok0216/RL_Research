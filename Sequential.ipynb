{
 "cells": [
  {
   "cell_type": "code",
   "execution_count": 1,
   "id": "29cc3858",
   "metadata": {},
   "outputs": [],
   "source": [
    "from data_processing import *\n",
    "import tensorflow as tf\n",
    "import copy\n",
    "import numpy as np"
   ]
  },
  {
   "cell_type": "code",
   "execution_count": 2,
   "id": "014e2ab8",
   "metadata": {},
   "outputs": [],
   "source": [
    "dialogues, ides = [], []\n",
    "for i in range(0, 9):\n",
    "    dialogues.append(preprocessed_dialogue(i))\n",
    "    ides.append(preprocessed_ide(i))"
   ]
  },
  {
   "cell_type": "code",
   "execution_count": 3,
   "id": "95b1d8a0",
   "metadata": {},
   "outputs": [],
   "source": [
    "dialogue_input, dialogue_output = sort(dialogues)\n",
    "ide_input, ide_output = sort(ides)\n",
    "maxLength = 0\n",
    "# 21 is the max length\n",
    "for i in dialogue_input:\n",
    "    maxLength = max(maxLength, len(i))"
   ]
  },
  {
   "cell_type": "code",
   "execution_count": 4,
   "id": "1a12aabf",
   "metadata": {},
   "outputs": [],
   "source": [
    "one_hot_encoded_dialogue_input, one_hot_encoded_dialogue_output = np.array([]), np.array([])\n",
    "sample = []\n",
    "# Trying padding and processing\n",
    "for i in dialogue_input:\n",
    "    temp = i\n",
    "    while (len(temp) < 21): temp.append(0)\n",
    "    sample.append(temp)\n",
    "    \n",
    "from sklearn.preprocessing import MinMaxScaler\n",
    "scaler = MinMaxScaler()\n",
    "sample = scaler.fit_transform(sample)\n",
    "\n",
    "one_hot_encoded_dialogue_input = tf.keras.utils.to_categorical(sample)\n",
    "\n",
    "for i in dialogue_output:\n",
    "    temp = tf.keras.utils.to_categorical(i).tolist()\n",
    "    while (len(temp) < 47):\n",
    "        temp.append(0)\n",
    "    one_hot_encoded_dialogue_output = np.append(one_hot_encoded_dialogue_output, temp)\n",
    "# print(one_hot_encoded_dialogue_input[0])"
   ]
  },
  {
   "cell_type": "code",
   "execution_count": null,
   "id": "fef2d15e",
   "metadata": {},
   "outputs": [
    {
     "name": "stdout",
     "output_type": "stream",
     "text": [
      "7/7 - 0s - loss: 0.0337 - accuracy: 0.9663 - 394ms/epoch - 56ms/step\n",
      "7/7 - 0s - loss: 0.0048 - accuracy: 0.9952 - 79ms/epoch - 11ms/step\n",
      "7/7 - 0s - loss: 0.0240 - accuracy: 0.9760 - 76ms/epoch - 11ms/step\n",
      "7/7 - 0s - loss: 0.0481 - accuracy: 0.9519 - 70ms/epoch - 10ms/step\n",
      "7/7 - 0s - loss: 0.0192 - accuracy: 0.9808 - 79ms/epoch - 11ms/step\n",
      "7/7 - 0s - loss: 0.0144 - accuracy: 0.9856 - 86ms/epoch - 12ms/step\n"
     ]
    }
   ],
   "source": [
    "def build_model():\n",
    "    model = tf.keras.Sequential([\n",
    "        tf.keras.layers.Dense(units=21, activation='relu'),\n",
    "        tf.keras.layers.Dense(units=128, activation='relu'),\n",
    "        tf.keras.layers.Dense(units=1, activation='relu')\n",
    "    ])\n",
    "    model.compile(optimizer='adam', loss='mean_squared_error', metrics=['accuracy'])\n",
    "    return model\n",
    "\n",
    "def train_and_evaluate_model(model, X, y, k=10):\n",
    "    from sklearn.model_selection import KFold\n",
    "    kfold = KFold(n_splits=k, shuffle=True, random_state=0)\n",
    "    scores = []\n",
    "    for train_index, test_index in kfold.split(X):\n",
    "        X_train, X_test = X[train_index], X[test_index]\n",
    "        y_train, y_test = y[train_index], y[test_index]\n",
    "        model.fit(X_train, y_train, epochs=10, batch_size=32, verbose=0)\n",
    "        score = model.evaluate(X_test, y_test, verbose=2)\n",
    "        scores.append(score[1])\n",
    "    print(scores)\n",
    "    return np.mean(scores)\n",
    "\n",
    "# print()\n",
    "# Load the input data and one-hot encode it\n",
    "X = one_hot_encoded_dialogue_input\n",
    "y = one_hot_encoded_dialogue_output\n",
    "\n",
    "model = build_model()\n",
    "score = train_and_evaluate_model(model, X, y)\n",
    "print(\"Cross-validated accuracy:\", score)\n"
   ]
  },
  {
   "cell_type": "code",
   "execution_count": null,
   "id": "81bd3f51",
   "metadata": {},
   "outputs": [],
   "source": []
  },
  {
   "cell_type": "code",
   "execution_count": null,
   "id": "f034a933",
   "metadata": {},
   "outputs": [],
   "source": []
  }
 ],
 "metadata": {
  "kernelspec": {
   "display_name": "Python 3 (ipykernel)",
   "language": "python",
   "name": "python3"
  },
  "language_info": {
   "codemirror_mode": {
    "name": "ipython",
    "version": 3
   },
   "file_extension": ".py",
   "mimetype": "text/x-python",
   "name": "python",
   "nbconvert_exporter": "python",
   "pygments_lexer": "ipython3",
   "version": "3.10.3"
  }
 },
 "nbformat": 4,
 "nbformat_minor": 5
}
