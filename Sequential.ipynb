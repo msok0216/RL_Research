{
 "cells": [
  {
   "cell_type": "code",
   "execution_count": 9,
   "id": "29cc3858",
   "metadata": {},
   "outputs": [],
   "source": [
    "from data_processing import *\n",
    "import tensorflow as tf\n",
    "import copy\n",
    "import numpy as np"
   ]
  },
  {
   "cell_type": "code",
   "execution_count": 10,
   "id": "014e2ab8",
   "metadata": {},
   "outputs": [],
   "source": [
    "dialogues, ides = [], []\n",
    "for i in range(0, 9):\n",
    "    dialogues.append(preprocessed_dialogue(i))\n",
    "    ides.append(preprocessed_ide(i))"
   ]
  },
  {
   "cell_type": "code",
   "execution_count": 11,
   "id": "95b1d8a0",
   "metadata": {},
   "outputs": [],
   "source": [
    "dialogue_input, dialogue_output = sort(dialogues)\n",
    "ide_input, ide_output = sort(ides)\n",
    "maxLength = 0\n",
    "# 21 is the max length\n",
    "for i in dialogue_input:\n",
    "    maxLength = max(maxLength, len(i))"
   ]
  },
  {
   "cell_type": "code",
   "execution_count": 12,
   "id": "1a12aabf",
   "metadata": {},
   "outputs": [],
   "source": [
    "one_hot_encoded_dialogue_input, one_hot_encoded_dialogue_output = np.array([]), np.array([])\n",
    "sample = []\n",
    "# Trying padding and processing\n",
    "for i in dialogue_input:\n",
    "    temp = i\n",
    "    while (len(temp) < 21): temp.append(0)\n",
    "    sample.append(temp)\n",
    "    \n",
    "from sklearn.preprocessing import MinMaxScaler\n",
    "scaler = MinMaxScaler()\n",
    "sample = scaler.fit_transform(sample)\n",
    "\n",
    "one_hot_encoded_dialogue_input = tf.keras.utils.to_categorical(sample)\n",
    "\n",
    "for i in dialogue_output:\n",
    "    temp = tf.keras.utils.to_categorical(i).tolist()\n",
    "    while (len(temp) < 47):\n",
    "        temp.append(0)\n",
    "    one_hot_encoded_dialogue_output = np.append(one_hot_encoded_dialogue_output, temp)\n",
    "# print(one_hot_encoded_dialogue_input[0])"
   ]
  },
  {
   "cell_type": "code",
   "execution_count": 18,
   "id": "fef2d15e",
   "metadata": {},
   "outputs": [
    {
     "name": "stdout",
     "output_type": "stream",
     "text": [
      "[0.9765100479125977, 0.9831649661064148, 0.9595959782600403, 0.9831649661064148, 0.9764309525489807, 0.9865319728851318, 0.9831649661064148]\n",
      "Cross-validated accuracy: 0.9783662642751422\n"
     ]
    }
   ],
   "source": [
    "def build_model():\n",
    "    model = tf.keras.Sequential([\n",
    "        tf.keras.layers.Dense(units=21, activation='softmax'),\n",
    "        tf.keras.layers.Dense(units=128, activation='softmax'),\n",
    "        tf.keras.layers.Dense(units=1, activation='softmax')\n",
    "    ])\n",
    "    model.compile(optimizer='adam', loss='mean_squared_error')\n",
    "    return model\n",
    "\n",
    "def train_and_evaluate_model(model, X, y, k=7):\n",
    "    from sklearn.model_selection import KFold\n",
    "    kfold = KFold(n_splits=k, shuffle=True, random_state=0)\n",
    "    scores = []\n",
    "    for train_index, test_index in kfold.split(X):\n",
    "        X_train, X_test = X[train_index], X[test_index]\n",
    "        y_train, y_test = y[train_index], y[test_index]\n",
    "        model.fit(X_train, y_train, epochs=10, batch_size=32, verbose=0)\n",
    "        score = model.evaluate(X_test, y_test, verbose=0)\n",
    "        scores.append(score)\n",
    "    print(scores)\n",
    "    return np.mean(scores)\n",
    "\n",
    "# print()\n",
    "# Load the input data and one-hot encode it\n",
    "X = one_hot_encoded_dialogue_input\n",
    "y = one_hot_encoded_dialogue_output\n",
    "\n",
    "model = build_model()\n",
    "score = train_and_evaluate_model(model, X, y)\n",
    "print(\"Cross-validated accuracy:\", score)\n"
   ]
  },
  {
   "cell_type": "code",
   "execution_count": 16,
   "id": "81bd3f51",
   "metadata": {},
   "outputs": [
    {
     "ename": "SyntaxError",
     "evalue": "invalid syntax (2888181176.py, line 1)",
     "output_type": "error",
     "traceback": [
      "\u001b[1;36m  Input \u001b[1;32mIn [16]\u001b[1;36m\u001b[0m\n\u001b[1;33m    def last_speaker\u001b[0m\n\u001b[1;37m                    ^\u001b[0m\n\u001b[1;31mSyntaxError\u001b[0m\u001b[1;31m:\u001b[0m invalid syntax\n"
     ]
    }
   ],
   "source": [
    "def last_speaker"
   ]
  },
  {
   "cell_type": "code",
   "execution_count": null,
   "id": "f034a933",
   "metadata": {},
   "outputs": [],
   "source": []
  }
 ],
 "metadata": {
  "kernelspec": {
   "display_name": "Python 3 (ipykernel)",
   "language": "python",
   "name": "python3"
  },
  "language_info": {
   "codemirror_mode": {
    "name": "ipython",
    "version": 3
   },
   "file_extension": ".py",
   "mimetype": "text/x-python",
   "name": "python",
   "nbconvert_exporter": "python",
   "pygments_lexer": "ipython3",
   "version": "3.10.3"
  }
 },
 "nbformat": 4,
 "nbformat_minor": 5
}
