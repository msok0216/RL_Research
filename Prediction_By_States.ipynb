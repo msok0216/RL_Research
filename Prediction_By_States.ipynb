{
 "cells": [
  {
   "cell_type": "code",
   "execution_count": 96,
   "id": "286d6312",
   "metadata": {},
   "outputs": [],
   "source": [
    "from data_processing import *\n",
    "import tensorflow as tf\n",
    "import copy\n",
    "import numpy as np"
   ]
  },
  {
   "cell_type": "code",
   "execution_count": 97,
   "id": "61717549",
   "metadata": {},
   "outputs": [],
   "source": [
    "dialogues, ides = [], []\n",
    "for i in range(0, 9):\n",
    "    dialogues.append(preprocessed_dialogue(list_hh, i))\n",
    "    ides.append(preprocessed_ide(list_hh, i))\n",
    "    if i < 5:\n",
    "        dialogues.append(preprocessed_dialogue(list_woz, i))\n",
    "        ides.append(preprocessed_ide(list_woz, i))\n"
   ]
  },
  {
   "cell_type": "code",
   "execution_count": 98,
   "id": "af950412",
   "metadata": {},
   "outputs": [],
   "source": [
    "d_input, d_output = sort(dialogues)\n",
    "ide_input, ide_output = sort(ides)"
   ]
  },
  {
   "cell_type": "code",
   "execution_count": 99,
   "id": "c5c44849",
   "metadata": {},
   "outputs": [],
   "source": [
    "# print(dialogue_input)\n",
    "d_input = np.array([i[0] for i in d_input])"
   ]
  },
  {
   "cell_type": "code",
   "execution_count": 101,
   "id": "4bcc0389",
   "metadata": {},
   "outputs": [
    {
     "name": "stdout",
     "output_type": "stream",
     "text": [
      "9/9 - 0s - loss: 71.6251 - accuracy: 0.2313 - precision_22: 1.0000 - recall_21: 1.0000 - 171ms/epoch - 19ms/step\n",
      "9/9 - 0s - loss: 71.5920 - accuracy: 0.2349 - precision_22: 1.0000 - recall_21: 1.0000 - 24ms/epoch - 3ms/step\n",
      "9/9 - 0s - loss: 68.0734 - accuracy: 0.2705 - precision_22: 1.0000 - recall_21: 1.0000 - 29ms/epoch - 3ms/step\n",
      "9/9 - 0s - loss: 62.3848 - accuracy: 0.2633 - precision_22: 1.0000 - recall_21: 1.0000 - 30ms/epoch - 3ms/step\n",
      "9/9 - 0s - loss: 72.0233 - accuracy: 0.2883 - precision_22: 1.0000 - recall_21: 1.0000 - 27ms/epoch - 3ms/step\n",
      "9/9 - 0s - loss: 71.9873 - accuracy: 0.2278 - precision_22: 1.0000 - recall_21: 1.0000 - 28ms/epoch - 3ms/step\n",
      "9/9 - 0s - loss: 49.3538 - accuracy: 0.2420 - precision_22: 1.0000 - recall_21: 1.0000 - 33ms/epoch - 4ms/step\n",
      "9/9 - 0s - loss: 64.9262 - accuracy: 0.2171 - precision_22: 1.0000 - recall_21: 1.0000 - 25ms/epoch - 3ms/step\n",
      "9/9 - 0s - loss: 62.4814 - accuracy: 0.2857 - precision_22: 1.0000 - recall_21: 1.0000 - 39ms/epoch - 4ms/step\n",
      "9/9 - 0s - loss: 77.4753 - accuracy: 0.2036 - precision_22: 1.0000 - recall_21: 1.0000 - 29ms/epoch - 3ms/step\n",
      "Cross-validated accuracy: 0.24643746614456177\n"
     ]
    }
   ],
   "source": [
    "from keras import backend as K\n",
    "from keras import metrics\n",
    "\n",
    "\n",
    "\n",
    "\n",
    "def build_model():\n",
    "    model = tf.keras.Sequential([\n",
    "        tf.keras.layers.Dense(units=48, activation='relu'),\n",
    "        tf.keras.layers.Dense(units=64, activation='relu'),\n",
    "#         tf.keras.layers.Dense(units=64, activation='relu'),\n",
    "        tf.keras.layers.Dense(units=1, activation='relu')\n",
    "    ])\n",
    "#     add f1 and/or loss function for the metric because of the state imbalance\n",
    "    model.compile(optimizer='adam', loss='mean_squared_error', metrics=['accuracy', metrics.Precision(), metrics.Recall()])\n",
    "    return model\n",
    "\n",
    "def train_and_evaluate_model(model, X, y, k=10):\n",
    "    from sklearn.model_selection import KFold\n",
    "    kfold = KFold(n_splits=k, shuffle=True, random_state=0)\n",
    "    scores = []\n",
    "    for train_index, test_index in kfold.split(X):\n",
    "        X_train, X_test = X[train_index], X[test_index]\n",
    "        y_train, y_test = y[train_index], y[test_index]\n",
    "        model.fit(X_train, y_train, epochs=10, batch_size=32, verbose=0)\n",
    "        score = model.evaluate(X_test, y_test, verbose=2)\n",
    "        scores.append(score[1])\n",
    "\n",
    "    return np.mean(scores)\n",
    "\n",
    "\n",
    "dialogue_input = tf.keras.utils.to_categorical(d_input)\n",
    "# print(dialogue_output)\n",
    "# for i in dialogue_input: print(i)\n",
    "# print(dialogue_input)\n",
    "for i in dialogue_input: \n",
    "    while len(i) < 47: \n",
    "        i.append(i)\n",
    "        \n",
    "# print()\n",
    "# Load the input data and one-hot encode it\n",
    "X = np.array(dialogue_input)\n",
    "y = np.array(dialogue_output)\n",
    "\n",
    "model = build_model()\n",
    "score = train_and_evaluate_model(model, X, y)\n",
    "print(\"Cross-validated accuracy:\", score)\n",
    "\n",
    "# confusion matrix- tells you \n",
    "# hand validation - write code that takes one hot encoding \n"
   ]
  },
  {
   "cell_type": "code",
   "execution_count": null,
   "id": "e5d1b796",
   "metadata": {},
   "outputs": [],
   "source": []
  },
  {
   "cell_type": "code",
   "execution_count": null,
   "id": "5d467de9",
   "metadata": {},
   "outputs": [],
   "source": []
  }
 ],
 "metadata": {
  "kernelspec": {
   "display_name": "Python 3 (ipykernel)",
   "language": "python",
   "name": "python3"
  },
  "language_info": {
   "codemirror_mode": {
    "name": "ipython",
    "version": 3
   },
   "file_extension": ".py",
   "mimetype": "text/x-python",
   "name": "python",
   "nbconvert_exporter": "python",
   "pygments_lexer": "ipython3",
   "version": "3.10.3"
  }
 },
 "nbformat": 4,
 "nbformat_minor": 5
}
