{
 "cells": [
  {
   "cell_type": "code",
   "execution_count": 8,
   "id": "06159fe3",
   "metadata": {},
   "outputs": [],
   "source": [
    "from data_processing import *\n",
    "import tensorflow as tf\n",
    "import copy\n",
    "import numpy as np"
   ]
  },
  {
   "cell_type": "code",
   "execution_count": 9,
   "id": "0fbe0646",
   "metadata": {},
   "outputs": [
    {
     "name": "stdout",
     "output_type": "stream",
     "text": [
      "['S2' 'S1' 'S3' ... 'S7' 'S1' 'S7']\n"
     ]
    }
   ],
   "source": [
    "files = []\n",
    "for i in range(1, 10):\n",
    "    path = \"./data/TEST_Kim-Study{i}.csv\".format(i=i)\n",
    "    temp = pd.read_csv(path)\n",
    "    files.extend(temp[['Dialogue State']].values)\n",
    "    \n",
    "files = np.concatenate(files)\n",
    "print(files)"
   ]
  },
  {
   "cell_type": "code",
   "execution_count": 10,
   "id": "f33c4f2b",
   "metadata": {},
   "outputs": [],
   "source": [
    "IDEMap = {'D7': 'D6D15', 'D8': 'D6D15', 'E3': 'D10', 'E1': 'D11', 'E2': 'D13', 'D18': 'D6D15D17', 'D19': 'D1D2',\n",
    "         'D21': 'D3D2', 'D22': 'D3D1', 'D23': 'D3D17', 'D25': 'D1D2D9', 'D27': 'DD3D17D1', 'D28': 'D5', 'D29': 'D17D14',\n",
    "         'D30': 'D6', 'D31': 'D5D2', 'D32': 'D10', 'D33': 'D6', 'D34': 'D16D1', 'D36': 'D17D16', 'D37': 'D1D17',\n",
    "         'D38': 'D3D17D1', 'D39': 'D3D6D5', 'D40': 'D17D1', 'D41': 'D7','D42': 'D13','D43': 'D13','D44': 'D13'}\n",
    "temp = [int(i[1:]) for i in files]\n",
    "data = np.array(temp)\n"
   ]
  },
  {
   "cell_type": "code",
   "execution_count": 11,
   "id": "58174e0f",
   "metadata": {},
   "outputs": [],
   "source": [
    "# convert an array of values into a dataset matrix\n",
    "def create_dataset(dataset, look_back=1):\n",
    "    dataX, dataY = [], []\n",
    "    for i in range(len(dataset)-look_back-1):\n",
    "        a = dataset[i:(i+look_back)]\n",
    "        dataX.append(a)\n",
    "        dataY.append(dataset[i + look_back])\n",
    "    return np.array(dataX), np.array(dataY)"
   ]
  },
  {
   "cell_type": "code",
   "execution_count": 12,
   "id": "f02492b4",
   "metadata": {},
   "outputs": [],
   "source": [
    "input_data, output_data = create_dataset(data, look_back=30)\n",
    "tree_input = input_data\n",
    "tree_output = output_data"
   ]
  },
  {
   "cell_type": "code",
   "execution_count": 13,
   "id": "b5f52e43",
   "metadata": {},
   "outputs": [
    {
     "name": "stdout",
     "output_type": "stream",
     "text": [
      "[ 1  6 11 ... 15  7  1]\n"
     ]
    }
   ],
   "source": [
    "input_data = np.reshape(input_data, (input_data.shape[0], len(input_data[0]), 1)).astype('int64')\n",
    "output_data = output_data.astype('int64')\n",
    "print(output_data)\n"
   ]
  },
  {
   "cell_type": "code",
   "execution_count": 7,
   "id": "c415847a",
   "metadata": {},
   "outputs": [
    {
     "name": "stdout",
     "output_type": "stream",
     "text": [
      "22/22 - 0s - loss: 53.7165 - accuracy: 0.2085 - 417ms/epoch - 19ms/step\n",
      "22/22 [==============================] - 0s 3ms/step\n",
      "0.0\n",
      "22/22 - 0s - loss: 47.1188 - accuracy: 0.1718 - 99ms/epoch - 4ms/step\n",
      "22/22 [==============================] - 0s 4ms/step\n",
      "0.0\n",
      "22/22 - 0s - loss: 56.5921 - accuracy: 0.1659 - 100ms/epoch - 5ms/step\n",
      "22/22 [==============================] - 0s 4ms/step\n",
      "0.0\n",
      "22/22 - 0s - loss: 44.6134 - accuracy: 0.1853 - 96ms/epoch - 4ms/step\n",
      "22/22 [==============================] - 0s 3ms/step\n",
      "0.0\n",
      "22/22 - 0s - loss: 51.2997 - accuracy: 0.1853 - 123ms/epoch - 6ms/step\n",
      "22/22 [==============================] - 0s 5ms/step\n",
      "0.0\n",
      "Cross-validated accuracy: 0.18336874842643738\n",
      "f1:  nan\n",
      "precision:  1.0\n",
      "recall:  0.0\n"
     ]
    },
    {
     "name": "stderr",
     "output_type": "stream",
     "text": [
      "C:\\Users\\msok0\\AppData\\Local\\Programs\\Python\\Python310\\lib\\site-packages\\numpy\\core\\fromnumeric.py:3432: RuntimeWarning: Mean of empty slice.\n",
      "  return _methods._mean(a, axis=axis, dtype=dtype,\n",
      "C:\\Users\\msok0\\AppData\\Local\\Programs\\Python\\Python310\\lib\\site-packages\\numpy\\core\\_methods.py:190: RuntimeWarning: invalid value encountered in double_scalars\n",
      "  ret = ret.dtype.type(ret / rcount)\n"
     ]
    }
   ],
   "source": [
    "from keras import backend as K\n",
    "from keras import metrics\n",
    "from keras.optimizers import Adam\n",
    "from sklearn.metrics import f1_score, precision_score, recall_score\n",
    "f1 = []\n",
    "precision = []\n",
    "recall = []\n",
    "\n",
    "\n",
    "def build_model():\n",
    "    model = tf.keras.Sequential([\n",
    "        tf.keras.layers.LSTM(units=64, activation='relu', input_shape=(len(input_data[0]),1), dropout = 0.3, recurrent_dropout = 0.3),\n",
    "        tf.keras.layers.Dense(units=128, activation='relu'),\n",
    "#         tf.keras.layers.Dense(units=64, activation='relu'),\n",
    "        tf.keras.layers.Dense(units=1, activation='relu')\n",
    "    ])\n",
    "#     add f1 and/or loss function for the metric because of the state imbalance\n",
    "    model.compile(optimizer='adam', loss='mean_squared_error', metrics=['accuracy'])\n",
    "    return model\n",
    "\n",
    "def train_and_evaluate_model(model, X, y, k=5):\n",
    "    from sklearn.model_selection import KFold\n",
    "    kfold = KFold(n_splits=k, shuffle=True, random_state=0)\n",
    "    scores = []\n",
    "    for train_index, test_index in kfold.split(X):\n",
    "        X_train, X_test = X[train_index], X[test_index]\n",
    "        y_train, y_test = y[train_index], y[test_index]\n",
    "#         y_train = y_train.reshape(-1)\n",
    "        model.fit(X_train, y_train, epochs=10, batch_size=32, verbose=0)\n",
    "        score = model.evaluate(X_test, y_test, verbose=2)\n",
    "        scores.append(score[1])\n",
    "        y_pred = model.predict(X_test)\n",
    "        y_pred_classes = np.argmax(y_pred, axis=1)\n",
    "        \n",
    "        print(f1_score(y_test, y_pred_classes, average='weighted'))\n",
    "        precision.append(precision_score(y_test, y_pred_classes, average='weighted', zero_division=1))\n",
    "        recall.append(recall_score(y_test, y_pred_classes, average='weighted', zero_division=1))\n",
    "\n",
    "    return np.mean(scores)\n",
    "\n",
    "# Load the input data and one-hot encode it\n",
    "X = input_data\n",
    "y = output_data\n",
    "model = build_model()\n",
    "score = train_and_evaluate_model(model, X, y)\n",
    "print(\"Cross-validated accuracy:\", score)\n",
    "print(\"f1: \", np.mean(f1))\n",
    "print(\"precision: \", np.mean(precision))\n",
    "print(\"recall: \", np.mean(recall))\n",
    "\n",
    "# confusion matrix- tells you \n",
    "# hand validation - write code that takes one hot encoding "
   ]
  },
  {
   "cell_type": "code",
   "execution_count": 32,
   "id": "f509a196",
   "metadata": {},
   "outputs": [
    {
     "name": "stdout",
     "output_type": "stream",
     "text": [
      "[0.0, 0.0, 0.0, 0.0, 0.0] [1.0, 1.0, 1.0, 1.0, 1.0] [0.0, 0.0, 0.0, 0.0, 0.0]\n"
     ]
    }
   ],
   "source": []
  },
  {
   "cell_type": "code",
   "execution_count": 18,
   "id": "46534eea",
   "metadata": {},
   "outputs": [
    {
     "ename": "NameError",
     "evalue": "name 'autoencoder' is not defined",
     "output_type": "error",
     "traceback": [
      "\u001b[1;31m---------------------------------------------------------------------------\u001b[0m",
      "\u001b[1;31mNameError\u001b[0m                                 Traceback (most recent call last)",
      "Input \u001b[1;32mIn [18]\u001b[0m, in \u001b[0;36m<cell line: 2>\u001b[1;34m()\u001b[0m\n\u001b[0;32m      1\u001b[0m \u001b[38;5;66;03m# autoencoder = Autoencoder(1)\u001b[39;00m\n\u001b[1;32m----> 2\u001b[0m \u001b[43mautoencoder\u001b[49m\u001b[38;5;241m.\u001b[39mfit(X, X, epochs\u001b[38;5;241m=\u001b[39m\u001b[38;5;241m20\u001b[39m, batch_size\u001b[38;5;241m=\u001b[39m\u001b[38;5;241m150\u001b[39m, validation_data\u001b[38;5;241m=\u001b[39m(X, X))\n",
      "\u001b[1;31mNameError\u001b[0m: name 'autoencoder' is not defined"
     ]
    }
   ],
   "source": []
  },
  {
   "cell_type": "code",
   "execution_count": 19,
   "id": "d5be9154",
   "metadata": {},
   "outputs": [
    {
     "ename": "NameError",
     "evalue": "name 'autoencoder' is not defined",
     "output_type": "error",
     "traceback": [
      "\u001b[1;31m---------------------------------------------------------------------------\u001b[0m",
      "\u001b[1;31mNameError\u001b[0m                                 Traceback (most recent call last)",
      "Input \u001b[1;32mIn [19]\u001b[0m, in \u001b[0;36m<cell line: 1>\u001b[1;34m()\u001b[0m\n\u001b[1;32m----> 1\u001b[0m \u001b[43mautoencoder\u001b[49m\u001b[38;5;241m.\u001b[39mcompile(optimizer\u001b[38;5;241m=\u001b[39m\u001b[38;5;124m'\u001b[39m\u001b[38;5;124madam\u001b[39m\u001b[38;5;124m'\u001b[39m, loss\u001b[38;5;241m=\u001b[39m\u001b[38;5;124m'\u001b[39m\u001b[38;5;124mmse\u001b[39m\u001b[38;5;124m'\u001b[39m)\n",
      "\u001b[1;31mNameError\u001b[0m: name 'autoencoder' is not defined"
     ]
    }
   ],
   "source": []
  },
  {
   "cell_type": "code",
   "execution_count": 20,
   "id": "041b1589",
   "metadata": {},
   "outputs": [
    {
     "ename": "NameError",
     "evalue": "name 'autoencoder' is not defined",
     "output_type": "error",
     "traceback": [
      "\u001b[1;31m---------------------------------------------------------------------------\u001b[0m",
      "\u001b[1;31mNameError\u001b[0m                                 Traceback (most recent call last)",
      "Input \u001b[1;32mIn [20]\u001b[0m, in \u001b[0;36m<cell line: 1>\u001b[1;34m()\u001b[0m\n\u001b[1;32m----> 1\u001b[0m \u001b[38;5;28mprint\u001b[39m(\u001b[38;5;28mlen\u001b[39m(X), \u001b[38;5;28mtype\u001b[39m(\u001b[43mautoencoder\u001b[49m))\n\u001b[0;32m      2\u001b[0m autoencoder\u001b[38;5;241m.\u001b[39mfit(X, X, epochs\u001b[38;5;241m=\u001b[39m\u001b[38;5;241m10\u001b[39m, validation_data\u001b[38;5;241m=\u001b[39m(X, X))\n",
      "\u001b[1;31mNameError\u001b[0m: name 'autoencoder' is not defined"
     ]
    }
   ],
   "source": []
  },
  {
   "cell_type": "code",
   "execution_count": 21,
   "id": "7e6ccad4",
   "metadata": {},
   "outputs": [
    {
     "name": "stdout",
     "output_type": "stream",
     "text": [
      "[[ 2  1  3 ...  6  1  6]\n",
      " [ 1  3  4 ...  1  6  1]\n",
      " [ 3  4  1 ...  6  1  6]\n",
      " ...\n",
      " [ 6 15 11 ...  6  6 35]\n",
      " [15 11  1 ...  6 35 15]\n",
      " [11  1 16 ... 35 15  7]]\n"
     ]
    }
   ],
   "source": []
  },
  {
   "cell_type": "code",
   "execution_count": 22,
   "id": "a4a4f731",
   "metadata": {},
   "outputs": [
    {
     "name": "stdout",
     "output_type": "stream",
     "text": [
      "0.25418372635397773\n"
     ]
    }
   ],
   "source": [
    "import numpy as np\n",
    "from sklearn.tree import DecisionTreeClassifier\n",
    "from sklearn.model_selection import KFold\n",
    "from sklearn.metrics import confusion_matrix\n",
    "\n",
    "# Input and output data\n",
    "X = np.array(tree_input)\n",
    "y = np.array(tree_output)\n",
    "# Cross-validation\n",
    "kf = KFold(n_splits=5, shuffle=True, random_state=42)\n",
    "score = []\n",
    "for train_idx, test_idx in kf.split(X):\n",
    "    X_train, y_train = X[train_idx], y[train_idx]\n",
    "    X_test, y_test = X[test_idx], y[test_idx]\n",
    "    # Fit decision tree classifier\n",
    "    clf = DecisionTreeClassifier()\n",
    "    clf.fit(X_train, y_train)\n",
    "    score.append(clf.score(X_test, y_test))\n",
    "    # Predict test data and compute confusion matrix\n",
    "    \n",
    "print(np.mean(score))"
   ]
  },
  {
   "cell_type": "code",
   "execution_count": null,
   "id": "60db1659",
   "metadata": {},
   "outputs": [],
   "source": []
  }
 ],
 "metadata": {
  "kernelspec": {
   "display_name": "Python 3 (ipykernel)",
   "language": "python",
   "name": "python3"
  },
  "language_info": {
   "codemirror_mode": {
    "name": "ipython",
    "version": 3
   },
   "file_extension": ".py",
   "mimetype": "text/x-python",
   "name": "python",
   "nbconvert_exporter": "python",
   "pygments_lexer": "ipython3",
   "version": "3.10.3"
  }
 },
 "nbformat": 4,
 "nbformat_minor": 5
}
