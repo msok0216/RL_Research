{
 "cells": [
  {
   "cell_type": "code",
   "execution_count": 15,
   "id": "d5c7a5f4",
   "metadata": {},
   "outputs": [],
   "source": [
    "from data_processing import *\n",
    "import tensorflow as tf\n",
    "import copy\n",
    "import numpy as np"
   ]
  },
  {
   "cell_type": "code",
   "execution_count": 16,
   "id": "4a9fe977",
   "metadata": {
    "scrolled": true
   },
   "outputs": [
    {
     "name": "stdout",
     "output_type": "stream",
     "text": [
      "9\n",
      "5\n",
      "9\n",
      "5\n",
      "9\n",
      "5\n",
      "9\n",
      "5\n",
      "9\n",
      "5\n",
      "9\n",
      "9\n",
      "9\n",
      "9\n"
     ]
    }
   ],
   "source": [
    "dialogues, ides = [], []\n",
    "for i in range(0, 9):\n",
    "    dialogues.append(preprocessed_dialogue(list_hh, i))\n",
    "    ides.append(preprocessed_ide(list_hh, i))\n",
    "    if i < 5:\n",
    "        dialogues.append(preprocessed_dialogue(list_woz, i))\n",
    "        ides.append(preprocessed_ide(list_woz, i))\n"
   ]
  },
  {
   "cell_type": "code",
   "execution_count": 17,
   "id": "ce65355c",
   "metadata": {
    "scrolled": true
   },
   "outputs": [],
   "source": [
    "dialogue_input, dialogue_output = [], []\n",
    "\n",
    "def process_data(data):\n",
    "    input, output = [], []\n",
    "    for i in data:\n",
    "        s1, s2 = data[0], data[1]\n",
    "#         print(s1)\n",
    "        for i in range(max(len(s1), len(s2))):\n",
    "            if i > 1:\n",
    "                temp = []\n",
    "                temp.append(s1[i-1])\n",
    "                temp.append(s2[i-1])\n",
    "                padding(temp[0])\n",
    "                padding(temp[1])\n",
    "                input.append(temp)\n",
    "                output.append(s1[i][0])\n",
    "#                 print(temp)\n",
    "                \n",
    "                if i < len(s2):\n",
    "                    temp = []\n",
    "                    temp.append(s2[i-1])\n",
    "                    temp.append(s1[i])\n",
    "                    padding(temp[0])\n",
    "                    padding(temp[1])\n",
    "                    input.append(temp)\n",
    "                    output.append(s2[i][0])\n",
    "    return input, output\n",
    "    \n",
    "def padding(data):\n",
    "    while len(data) < 21: data.append(0)\n",
    "        \n",
    "data = []\n",
    "for i in dialogues:\n",
    "    input, output = process_data(i)\n",
    "    dialogue_input.extend(input)\n",
    "    dialogue_output.extend(output)\n",
    "# print(len(input), len(output))\n"
   ]
  },
  {
   "cell_type": "code",
   "execution_count": 18,
   "id": "95383388",
   "metadata": {},
   "outputs": [
    {
     "name": "stdout",
     "output_type": "stream",
     "text": [
      "18/18 - 1s - loss: 67.9514 - accuracy: 0.2166 - 501ms/epoch - 28ms/step\n",
      "554 554\n",
      "18/18 - 0s - loss: 66.3951 - accuracy: 0.2310 - 86ms/epoch - 5ms/step\n",
      "554 554\n",
      "18/18 - 0s - loss: 71.1531 - accuracy: 0.2604 - 114ms/epoch - 6ms/step\n",
      "553 553\n",
      "18/18 - 0s - loss: 72.0502 - accuracy: 0.2387 - 93ms/epoch - 5ms/step\n",
      "553 553\n",
      "18/18 - 0s - loss: 66.8777 - accuracy: 0.2550 - 106ms/epoch - 6ms/step\n",
      "553 553\n",
      "18/18 - 0s - loss: 69.1256 - accuracy: 0.2568 - 104ms/epoch - 6ms/step\n",
      "553 553\n",
      "18/18 - 0s - loss: 63.7420 - accuracy: 0.2586 - 97ms/epoch - 5ms/step\n",
      "553 553\n",
      "18/18 - 0s - loss: 72.6072 - accuracy: 0.2369 - 113ms/epoch - 6ms/step\n",
      "553 553\n",
      "18/18 - 0s - loss: 61.7995 - accuracy: 0.2532 - 96ms/epoch - 5ms/step\n",
      "553 553\n",
      "18/18 - 0s - loss: 62.2963 - accuracy: 0.2586 - 104ms/epoch - 6ms/step\n",
      "553 553\n",
      "[0.2166064977645874, 0.23104692995548248, 0.2603978216648102, 0.23869800567626953, 0.2549728751182556, 0.2567811906337738, 0.258589506149292, 0.23688969016075134, 0.2531645596027374, 0.258589506149292]\n",
      "Cross-validated accuracy: 0.24657365828752517\n"
     ]
    }
   ],
   "source": [
    "from keras import backend as K\n",
    "\n",
    "\n",
    "def build_model():\n",
    "    model = tf.keras.Sequential([\n",
    "        tf.keras.layers.Dense(units=21, activation='relu'),\n",
    "        tf.keras.layers.Dense(units=64, activation='relu'),\n",
    "#         tf.keras.layers.Dense(units=64, activation='relu'),\n",
    "        tf.keras.layers.Dense(units=1, activation='relu')\n",
    "    ])\n",
    "#     add f1 and/or loss function for the metric because of the state imbalance\n",
    "    model.compile(optimizer='adam', loss='mean_squared_error', metrics=['accuracy'])\n",
    "    return model\n",
    "\n",
    "def train_and_evaluate_model(model, X, y, k=10):\n",
    "    from sklearn.model_selection import KFold\n",
    "    kfold = KFold(n_splits=k, shuffle=True, random_state=0)\n",
    "    scores = []\n",
    "    for train_index, test_index in kfold.split(X):\n",
    "        X_train, X_test = X[train_index], X[test_index]\n",
    "        y_train, y_test = y[train_index], y[test_index]\n",
    "        \n",
    "        model.fit(X_train, y_train, epochs=10, batch_size=32, verbose=0)\n",
    "#         return the score for more statistics-in the future reference\n",
    "        score = model.evaluate(X_test, y_test, verbose=2)\n",
    "        scores.append(score[1])\n",
    "        print(len(X_test), len(y_test))\n",
    "    print(scores)\n",
    "    return np.mean(scores)\n",
    "\n",
    "# print()\n",
    "# Load the input data and one-hot encode it\n",
    "X = np.array(dialogue_input)\n",
    "y = np.array(dialogue_output)\n",
    "\n",
    "model = build_model()\n",
    "score = train_and_evaluate_model(model, X, y)\n",
    "print(\"Cross-validated accuracy:\", score)\n",
    "\n",
    "# confusion matrix- tells you \n",
    "# hand validation - write code that takes one hot encoding \n"
   ]
  },
  {
   "cell_type": "code",
   "execution_count": null,
   "id": "eaeaa205",
   "metadata": {},
   "outputs": [],
   "source": []
  }
 ],
 "metadata": {
  "kernelspec": {
   "display_name": "Python 3 (ipykernel)",
   "language": "python",
   "name": "python3"
  },
  "language_info": {
   "codemirror_mode": {
    "name": "ipython",
    "version": 3
   },
   "file_extension": ".py",
   "mimetype": "text/x-python",
   "name": "python",
   "nbconvert_exporter": "python",
   "pygments_lexer": "ipython3",
   "version": "3.10.3"
  }
 },
 "nbformat": 4,
 "nbformat_minor": 5
}
