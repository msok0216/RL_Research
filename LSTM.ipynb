{
 "cells": [
  {
   "cell_type": "code",
   "execution_count": 2,
   "id": "fb24789f",
   "metadata": {},
   "outputs": [],
   "source": [
    "from data_processing import *\n",
    "import tensorflow as tf\n",
    "import copy\n",
    "import numpy as np"
   ]
  },
  {
   "cell_type": "code",
   "execution_count": 3,
   "id": "6852c3b6",
   "metadata": {},
   "outputs": [],
   "source": [
    "dialogues, ides = [], []\n",
    "for i in range(0, 9):\n",
    "    dialogues.append(preprocessed_dialogue(i))\n",
    "    ides.append(preprocessed_ide(i))"
   ]
  },
  {
   "cell_type": "code",
   "execution_count": 4,
   "id": "c0887848",
   "metadata": {},
   "outputs": [],
   "source": [
    "dialogue_input, dialogue_output = sort(dialogues)\n",
    "ide_input, ide_output = sort(ides)\n",
    "maxLength = 0\n",
    "# 21 is the max length\n",
    "for i in dialogue_input:\n",
    "    maxLength = max(maxLength, len(i))"
   ]
  },
  {
   "cell_type": "code",
   "execution_count": 10,
   "id": "7397d0f9",
   "metadata": {},
   "outputs": [],
   "source": [
    "one_hot_encoded_dialogue_input, one_hot_encoded_dialogue_output = np.array([]), np.array([])\n",
    "sample = []\n",
    "# Trying padding and processing\n",
    "for i in dialogue_input:\n",
    "    temp = i\n",
    "    while (len(temp) < 21): temp.append(0)\n",
    "    sample.append(temp)\n",
    "    \n",
    "from sklearn.preprocessing import MinMaxScaler\n",
    "scaler = MinMaxScaler()\n",
    "sample = scaler.fit_transform(sample)\n",
    "\n",
    "one_hot_encoded_dialogue_input = tf.keras.utils.to_categorical(sample)\n",
    "\n",
    "for i in dialogue_output:\n",
    "    temp = tf.keras.utils.to_categorical(i).tolist()\n",
    "    while (len(temp) < 47):\n",
    "        temp.append(0)\n",
    "    one_hot_encoded_dialogue_output = np.append(one_hot_encoded_dialogue_output, temp)\n",
    "# print(one_hot_encoded_dialogue_input[0])"
   ]
  },
  {
   "cell_type": "code",
   "execution_count": 53,
   "id": "18581fb2",
   "metadata": {},
   "outputs": [
    {
     "name": "stdout",
     "output_type": "stream",
     "text": [
      "Cross-validated accuracy: 0.021634615771472455\n"
     ]
    }
   ],
   "source": [
    "def build_model():\n",
    "    model = tf.keras.Sequential([\n",
    "        tf.keras.layers.Dense(units=21, activation='softmax'),\n",
    "#         tf.keras.layers.LSTM(units=64, input_shape=(21, 43)),\n",
    "        tf.keras.layers.LSTM(units=64, input_shape=(21, 43)),\n",
    "        tf.keras.layers.Dense(units=21, activation='relu'),\n",
    "        tf.keras.layers.Dense(units=1, activation='relu')\n",
    "    ])\n",
    "    model.compile(optimizer='adam', loss='mean_squared_error')\n",
    "    return model\n",
    "\n",
    "def train_and_evaluate_model(model, X, y, k=5):\n",
    "    from sklearn.model_selection import KFold\n",
    "    kfold = KFold(n_splits=k, shuffle=True, random_state=0)\n",
    "    scores = []\n",
    "    for train_index, test_index in kfold.split(X):\n",
    "        X_train, X_test = X[train_index], X[test_index]\n",
    "        y_train, y_test = y[train_index], y[test_index]\n",
    "        model.fit(X_train, y_train, epochs=10, batch_size=32, verbose=0)\n",
    "        score = model.evaluate(X_test, y_test, verbose=0)\n",
    "        scores.append(score)\n",
    "    return np.mean(scores)\n",
    "\n",
    "# print()\n",
    "# Load the input data and one-hot encode it\n",
    "X = one_hot_encoded_dialogue_input\n",
    "y = one_hot_encoded_dialogue_output\n",
    "\n",
    "model = build_model()\n",
    "score = train_and_evaluate_model(model, X, y)\n",
    "print(\"Cross-validated accuracy:\", score)\n"
   ]
  },
  {
   "cell_type": "code",
   "execution_count": 58,
   "id": "86ac7e76",
   "metadata": {},
   "outputs": [
    {
     "name": "stdout",
     "output_type": "stream",
     "text": [
      "2080 2080\n",
      "WARNING:tensorflow:Model was constructed with shape (32, 21, 2) for input KerasTensor(type_spec=TensorSpec(shape=(32, 21, 2), dtype=tf.float32, name='dense_102_input'), name='dense_102_input', description=\"created by layer 'dense_102_input'\"), but it was called on an input with incompatible shape (32, 21).\n"
     ]
    },
    {
     "ename": "ValueError",
     "evalue": "in user code:\n\n    File \"C:\\Users\\msok0\\AppData\\Local\\Programs\\Python\\Python310\\lib\\site-packages\\keras\\engine\\training.py\", line 1160, in train_function  *\n        return step_function(self, iterator)\n    File \"C:\\Users\\msok0\\AppData\\Local\\Programs\\Python\\Python310\\lib\\site-packages\\keras\\engine\\training.py\", line 1146, in step_function  **\n        outputs = model.distribute_strategy.run(run_step, args=(data,))\n    File \"C:\\Users\\msok0\\AppData\\Local\\Programs\\Python\\Python310\\lib\\site-packages\\keras\\engine\\training.py\", line 1135, in run_step  **\n        outputs = model.train_step(data)\n    File \"C:\\Users\\msok0\\AppData\\Local\\Programs\\Python\\Python310\\lib\\site-packages\\keras\\engine\\training.py\", line 993, in train_step\n        y_pred = self(x, training=True)\n    File \"C:\\Users\\msok0\\AppData\\Local\\Programs\\Python\\Python310\\lib\\site-packages\\keras\\utils\\traceback_utils.py\", line 70, in error_handler\n        raise e.with_traceback(filtered_tb) from None\n    File \"C:\\Users\\msok0\\AppData\\Local\\Programs\\Python\\Python310\\lib\\site-packages\\keras\\engine\\input_spec.py\", line 277, in assert_input_compatibility\n        raise ValueError(\n\n    ValueError: Exception encountered when calling layer \"sequential_34\" \"                 f\"(type Sequential).\n    \n    Input 0 of layer \"dense_102\" is incompatible with the layer: expected axis -1 of input shape to have value 2, but received input with shape (32, 21)\n    \n    Call arguments received by layer \"sequential_34\" \"                 f\"(type Sequential):\n      • inputs=tf.Tensor(shape=(32, 21), dtype=float32)\n      • training=True\n      • mask=None\n",
     "output_type": "error",
     "traceback": [
      "\u001b[1;31m---------------------------------------------------------------------------\u001b[0m",
      "\u001b[1;31mValueError\u001b[0m                                Traceback (most recent call last)",
      "Input \u001b[1;32mIn [58]\u001b[0m, in \u001b[0;36m<cell line: 25>\u001b[1;34m()\u001b[0m\n\u001b[0;32m     23\u001b[0m model2 \u001b[38;5;241m=\u001b[39m build_model2()\n\u001b[0;32m     24\u001b[0m \u001b[38;5;28mprint\u001b[39m(\u001b[38;5;28mlen\u001b[39m(sample), \u001b[38;5;28mlen\u001b[39m(sample))\n\u001b[1;32m---> 25\u001b[0m score_2 \u001b[38;5;241m=\u001b[39m  \u001b[43mtrain_and_evaluate_model2\u001b[49m\u001b[43m(\u001b[49m\u001b[43mmodel\u001b[49m\u001b[43m,\u001b[49m\u001b[43m \u001b[49m\u001b[43msample\u001b[49m\u001b[43m,\u001b[49m\u001b[43m \u001b[49m\u001b[43mnp\u001b[49m\u001b[38;5;241;43m.\u001b[39;49m\u001b[43marray\u001b[49m\u001b[43m(\u001b[49m\u001b[43mdialogue_output\u001b[49m\u001b[43m)\u001b[49m\u001b[43m)\u001b[49m\n",
      "Input \u001b[1;32mIn [58]\u001b[0m, in \u001b[0;36mtrain_and_evaluate_model2\u001b[1;34m(model, X, y, k)\u001b[0m\n\u001b[0;32m     17\u001b[0m X_train, X_test \u001b[38;5;241m=\u001b[39m X[train_index], X[test_index]\n\u001b[0;32m     18\u001b[0m y_train, y_test \u001b[38;5;241m=\u001b[39m y[train_index], y[test_index]\n\u001b[1;32m---> 19\u001b[0m \u001b[43mmodel\u001b[49m\u001b[38;5;241;43m.\u001b[39;49m\u001b[43mfit\u001b[49m\u001b[43m(\u001b[49m\u001b[43mX_train\u001b[49m\u001b[43m,\u001b[49m\u001b[43m \u001b[49m\u001b[43my_train\u001b[49m\u001b[43m,\u001b[49m\u001b[43m \u001b[49m\u001b[43mepochs\u001b[49m\u001b[38;5;241;43m=\u001b[39;49m\u001b[38;5;241;43m10\u001b[39;49m\u001b[43m,\u001b[49m\u001b[43m \u001b[49m\u001b[43mbatch_size\u001b[49m\u001b[38;5;241;43m=\u001b[39;49m\u001b[38;5;241;43m32\u001b[39;49m\u001b[43m,\u001b[49m\u001b[43m \u001b[49m\u001b[43mverbose\u001b[49m\u001b[38;5;241;43m=\u001b[39;49m\u001b[38;5;241;43m0\u001b[39;49m\u001b[43m)\u001b[49m\n\u001b[0;32m     20\u001b[0m score \u001b[38;5;241m=\u001b[39m model\u001b[38;5;241m.\u001b[39mevaluate(X_test, y_test, verbose\u001b[38;5;241m=\u001b[39m\u001b[38;5;241m0\u001b[39m)\n\u001b[0;32m     21\u001b[0m scores\u001b[38;5;241m.\u001b[39mappend(score)\n",
      "File \u001b[1;32m~\\AppData\\Local\\Programs\\Python\\Python310\\lib\\site-packages\\keras\\utils\\traceback_utils.py:70\u001b[0m, in \u001b[0;36mfilter_traceback.<locals>.error_handler\u001b[1;34m(*args, **kwargs)\u001b[0m\n\u001b[0;32m     67\u001b[0m     filtered_tb \u001b[38;5;241m=\u001b[39m _process_traceback_frames(e\u001b[38;5;241m.\u001b[39m__traceback__)\n\u001b[0;32m     68\u001b[0m     \u001b[38;5;66;03m# To get the full stack trace, call:\u001b[39;00m\n\u001b[0;32m     69\u001b[0m     \u001b[38;5;66;03m# `tf.debugging.disable_traceback_filtering()`\u001b[39;00m\n\u001b[1;32m---> 70\u001b[0m     \u001b[38;5;28;01mraise\u001b[39;00m e\u001b[38;5;241m.\u001b[39mwith_traceback(filtered_tb) \u001b[38;5;28;01mfrom\u001b[39;00m \u001b[38;5;28mNone\u001b[39m\n\u001b[0;32m     71\u001b[0m \u001b[38;5;28;01mfinally\u001b[39;00m:\n\u001b[0;32m     72\u001b[0m     \u001b[38;5;28;01mdel\u001b[39;00m filtered_tb\n",
      "File \u001b[1;32m~\\AppData\\Local\\Temp\\__autograph_generated_filevroue5ly.py:15\u001b[0m, in \u001b[0;36mouter_factory.<locals>.inner_factory.<locals>.tf__train_function\u001b[1;34m(iterator)\u001b[0m\n\u001b[0;32m     13\u001b[0m \u001b[38;5;28;01mtry\u001b[39;00m:\n\u001b[0;32m     14\u001b[0m     do_return \u001b[38;5;241m=\u001b[39m \u001b[38;5;28;01mTrue\u001b[39;00m\n\u001b[1;32m---> 15\u001b[0m     retval_ \u001b[38;5;241m=\u001b[39m ag__\u001b[38;5;241m.\u001b[39mconverted_call(ag__\u001b[38;5;241m.\u001b[39mld(step_function), (ag__\u001b[38;5;241m.\u001b[39mld(\u001b[38;5;28mself\u001b[39m), ag__\u001b[38;5;241m.\u001b[39mld(iterator)), \u001b[38;5;28;01mNone\u001b[39;00m, fscope)\n\u001b[0;32m     16\u001b[0m \u001b[38;5;28;01mexcept\u001b[39;00m:\n\u001b[0;32m     17\u001b[0m     do_return \u001b[38;5;241m=\u001b[39m \u001b[38;5;28;01mFalse\u001b[39;00m\n",
      "\u001b[1;31mValueError\u001b[0m: in user code:\n\n    File \"C:\\Users\\msok0\\AppData\\Local\\Programs\\Python\\Python310\\lib\\site-packages\\keras\\engine\\training.py\", line 1160, in train_function  *\n        return step_function(self, iterator)\n    File \"C:\\Users\\msok0\\AppData\\Local\\Programs\\Python\\Python310\\lib\\site-packages\\keras\\engine\\training.py\", line 1146, in step_function  **\n        outputs = model.distribute_strategy.run(run_step, args=(data,))\n    File \"C:\\Users\\msok0\\AppData\\Local\\Programs\\Python\\Python310\\lib\\site-packages\\keras\\engine\\training.py\", line 1135, in run_step  **\n        outputs = model.train_step(data)\n    File \"C:\\Users\\msok0\\AppData\\Local\\Programs\\Python\\Python310\\lib\\site-packages\\keras\\engine\\training.py\", line 993, in train_step\n        y_pred = self(x, training=True)\n    File \"C:\\Users\\msok0\\AppData\\Local\\Programs\\Python\\Python310\\lib\\site-packages\\keras\\utils\\traceback_utils.py\", line 70, in error_handler\n        raise e.with_traceback(filtered_tb) from None\n    File \"C:\\Users\\msok0\\AppData\\Local\\Programs\\Python\\Python310\\lib\\site-packages\\keras\\engine\\input_spec.py\", line 277, in assert_input_compatibility\n        raise ValueError(\n\n    ValueError: Exception encountered when calling layer \"sequential_34\" \"                 f\"(type Sequential).\n    \n    Input 0 of layer \"dense_102\" is incompatible with the layer: expected axis -1 of input shape to have value 2, but received input with shape (32, 21)\n    \n    Call arguments received by layer \"sequential_34\" \"                 f\"(type Sequential):\n      • inputs=tf.Tensor(shape=(32, 21), dtype=float32)\n      • training=True\n      • mask=None\n"
     ]
    }
   ],
   "source": [
    "# This is for dialogue input without one-hot encoding \n",
    "def build_model2():\n",
    "    model = tf.keras.Sequential([\n",
    "        tf.keras.layers.Dense(units=21, activation='softmax'),\n",
    "#         tf.keras.layers.LSTM(units=64, input_shape=(21, 43)),\n",
    "        tf.keras.layers.LSTM(units=64, input_shape=(21, 43)),\n",
    "        tf.keras.layers.Dense(units=21, activation='relu'),\n",
    "        tf.keras.layers.Dense(units=1, activation='relu')\n",
    "    ])\n",
    "    model.compile(optimizer='adam', loss='mean_squared_error')\n",
    "    return model\n",
    "\n",
    "def train_and_evaluate_model2(model, X, y, k=5):\n",
    "    from sklearn.model_selection import KFold\n",
    "    kfold = KFold(n_splits=k, shuffle=True, random_state=0)\n",
    "    scores = []\n",
    "    for train_index, test_index in kfold.split(X):\n",
    "        X_train, X_test = X[train_index], X[test_index]\n",
    "        y_train, y_test = y[train_index], y[test_index]\n",
    "        model.fit(X_train, y_train, epochs=10, batch_size=32, verbose=0)\n",
    "        score = model.evaluate(X_test, y_test, verbose=0)\n",
    "        scores.append(score)\n",
    "    return np.mean(scores)\n",
    "model2 = build_model2()\n",
    "print(len(sample), len(sample))\n",
    "score_2 =  train_and_evaluate_model2(model, sample, np.array(dialogue_output))"
   ]
  },
  {
   "cell_type": "code",
   "execution_count": null,
   "id": "1725e391",
   "metadata": {},
   "outputs": [],
   "source": [
    "TypeError: only integer scalar arrays can be converted to a scalar index\n",
    "    "
   ]
  }
 ],
 "metadata": {
  "kernelspec": {
   "display_name": "Python 3 (ipykernel)",
   "language": "python",
   "name": "python3"
  },
  "language_info": {
   "codemirror_mode": {
    "name": "ipython",
    "version": 3
   },
   "file_extension": ".py",
   "mimetype": "text/x-python",
   "name": "python",
   "nbconvert_exporter": "python",
   "pygments_lexer": "ipython3",
   "version": "3.10.3"
  }
 },
 "nbformat": 4,
 "nbformat_minor": 5
}
